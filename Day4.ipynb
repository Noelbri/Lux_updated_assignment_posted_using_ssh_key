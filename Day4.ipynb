{
 "cells": [
  {
   "cell_type": "markdown",
   "id": "7e49a858-1a92-4176-9322-0164fc2dab47",
   "metadata": {},
   "source": [
    "## Day 4 Assignment\n",
    "#### 1. Formula of the Line of Best Fit\n",
    "> 𝑦=𝑚𝑥+𝑐\n",
    "\n",
    "Where:\\\n",
    "y: Dependent variable\\\n",
    "x: Independent variable\\\n",
    "m: Slope of the line\\\n",
    "c: Y-intercept\\\n",
    "Scientific Name: Simple Linear Regression Equation"
   ]
  },
  {
   "cell_type": "markdown",
   "id": "1ecfb59d-0588-431c-a2f8-7a6b8922bd84",
   "metadata": {},
   "source": [
    "#### 2. Formulas for Median\n",
    "##### Ungrouped Data:\n",
    "> Median=((n+1)/2)th value (if arranged in ascending order)\n",
    "\n",
    "Where:\\\n",
    "n is the total number of data points.\n",
    "\n",
    "##### Grouped Data:\n",
    "> Median = l + [(n/2−c)/f] × h\n",
    "\n",
    "Where:\\\n",
    "l = lower limit of the median class\\\n",
    "n = Total frequency\\\n",
    "c = Cumulative frequency of class before the median class\\\n",
    "f = Frequency of the median class\\\n",
    "h = Class width (Upper limit - Lower limit)"
   ]
  },
  {
   "cell_type": "markdown",
   "id": "aa801b21-1a61-4d1e-b9ec-f9ed360cccd4",
   "metadata": {},
   "source": [
    "#### 3. Definition of Homoscedasticity\n",
    "Homoscedasticity is a statistical assumption that means that the variance of the error term in a regression model is constant across all levels of the independent variables. In other words, the variability of the dependent variable around the regression line is the same for all values of the predictors.\\\n",
    "Importance in Analysis:\n",
    "1. Homoscedasticity is a critical assumption in linear regression. It ensures that the results of hypothesis tests (e.g., t-tests or F-tests) are valid.\n",
    "2. If violated (i.e., heteroscedasticity exists), standard errors can be biased, leading to unreliable confidence intervals and p-values."
   ]
  },
  {
   "cell_type": "code",
   "execution_count": 7,
   "id": "6d70cf38-875c-4aa7-a05e-7d0f5f62abb2",
   "metadata": {},
   "outputs": [
    {
     "data": {
      "text/html": [
       "<div>\n",
       "<style scoped>\n",
       "    .dataframe tbody tr th:only-of-type {\n",
       "        vertical-align: middle;\n",
       "    }\n",
       "\n",
       "    .dataframe tbody tr th {\n",
       "        vertical-align: top;\n",
       "    }\n",
       "\n",
       "    .dataframe thead th {\n",
       "        text-align: right;\n",
       "    }\n",
       "</style>\n",
       "<table border=\"1\" class=\"dataframe\">\n",
       "  <thead>\n",
       "    <tr style=\"text-align: right;\">\n",
       "      <th></th>\n",
       "      <th>id</th>\n",
       "      <th>Gender</th>\n",
       "      <th>Customer_Date_of_Birth</th>\n",
       "      <th>Driving_License</th>\n",
       "      <th>Customer_Residence_Sub_County</th>\n",
       "      <th>Previously_Insured</th>\n",
       "      <th>Vehicle_Year_of_Manufacture</th>\n",
       "      <th>Vehicle_Damage</th>\n",
       "      <th>Annual_Premium</th>\n",
       "      <th>Agent_name</th>\n",
       "      <th>Life_policy_start_date</th>\n",
       "      <th>Response</th>\n",
       "    </tr>\n",
       "  </thead>\n",
       "  <tbody>\n",
       "    <tr>\n",
       "      <th>0</th>\n",
       "      <td>549771831</td>\n",
       "      <td>Male</td>\n",
       "      <td>Monday, March 7, 1977</td>\n",
       "      <td>1</td>\n",
       "      <td>EMBAKASI</td>\n",
       "      <td>0</td>\n",
       "      <td>2020</td>\n",
       "      <td>Yes</td>\n",
       "      <td>38294</td>\n",
       "      <td>Jomo Kenyatta</td>\n",
       "      <td>Thursday, December 21, 2023</td>\n",
       "      <td>1</td>\n",
       "    </tr>\n",
       "    <tr>\n",
       "      <th>1</th>\n",
       "      <td>373583351</td>\n",
       "      <td>Male</td>\n",
       "      <td>Sunday, December 29, 2002</td>\n",
       "      <td>1</td>\n",
       "      <td>WESTLANDS</td>\n",
       "      <td>1</td>\n",
       "      <td>2020</td>\n",
       "      <td>No</td>\n",
       "      <td>28619</td>\n",
       "      <td>Obiero Ochieng</td>\n",
       "      <td>Wednesday, June 28, 2023</td>\n",
       "      <td>0</td>\n",
       "    </tr>\n",
       "    <tr>\n",
       "      <th>2</th>\n",
       "      <td>933163655</td>\n",
       "      <td>Female</td>\n",
       "      <td>Tuesday, August 23, 1994</td>\n",
       "      <td>1</td>\n",
       "      <td>DAGORETTI</td>\n",
       "      <td>1</td>\n",
       "      <td>2011</td>\n",
       "      <td>No</td>\n",
       "      <td>27496</td>\n",
       "      <td>Obiero Ochieng</td>\n",
       "      <td>Saturday, December 9, 2023</td>\n",
       "      <td>0</td>\n",
       "    </tr>\n",
       "    <tr>\n",
       "      <th>3</th>\n",
       "      <td>698942186</td>\n",
       "      <td>Female</td>\n",
       "      <td>Thursday, November 18, 1999</td>\n",
       "      <td>1</td>\n",
       "      <td>JUJA</td>\n",
       "      <td>0</td>\n",
       "      <td>2020</td>\n",
       "      <td>Yes</td>\n",
       "      <td>2630</td>\n",
       "      <td>Gitonga Mwangi</td>\n",
       "      <td>Tuesday, July 25, 2023</td>\n",
       "      <td>0</td>\n",
       "    </tr>\n",
       "    <tr>\n",
       "      <th>4</th>\n",
       "      <td>515109822</td>\n",
       "      <td>Male</td>\n",
       "      <td>Thursday, February 22, 2001</td>\n",
       "      <td>1</td>\n",
       "      <td>WESTLANDS</td>\n",
       "      <td>0</td>\n",
       "      <td>2015</td>\n",
       "      <td>Yes</td>\n",
       "      <td>23367</td>\n",
       "      <td>Obiero Ochieng</td>\n",
       "      <td>Saturday, May 13, 2023</td>\n",
       "      <td>0</td>\n",
       "    </tr>\n",
       "  </tbody>\n",
       "</table>\n",
       "</div>"
      ],
      "text/plain": [
       "          id  Gender       Customer_Date_of_Birth  Driving_License  \\\n",
       "0  549771831    Male        Monday, March 7, 1977                1   \n",
       "1  373583351    Male    Sunday, December 29, 2002                1   \n",
       "2  933163655  Female     Tuesday, August 23, 1994                1   \n",
       "3  698942186  Female  Thursday, November 18, 1999                1   \n",
       "4  515109822    Male  Thursday, February 22, 2001                1   \n",
       "\n",
       "  Customer_Residence_Sub_County  Previously_Insured  \\\n",
       "0                      EMBAKASI                   0   \n",
       "1                     WESTLANDS                   1   \n",
       "2                     DAGORETTI                   1   \n",
       "3                          JUJA                   0   \n",
       "4                     WESTLANDS                   0   \n",
       "\n",
       "   Vehicle_Year_of_Manufacture Vehicle_Damage  Annual_Premium      Agent_name  \\\n",
       "0                         2020            Yes           38294   Jomo Kenyatta   \n",
       "1                         2020             No           28619  Obiero Ochieng   \n",
       "2                         2011             No           27496  Obiero Ochieng   \n",
       "3                         2020            Yes            2630  Gitonga Mwangi   \n",
       "4                         2015            Yes           23367  Obiero Ochieng   \n",
       "\n",
       "        Life_policy_start_date  Response  \n",
       "0  Thursday, December 21, 2023         1  \n",
       "1     Wednesday, June 28, 2023         0  \n",
       "2   Saturday, December 9, 2023         0  \n",
       "3       Tuesday, July 25, 2023         0  \n",
       "4       Saturday, May 13, 2023         0  "
      ]
     },
     "execution_count": 7,
     "metadata": {},
     "output_type": "execute_result"
    }
   ],
   "source": [
    "import pyforest\n",
    "from datetime import datetime\n",
    "import pandas as pd\n",
    "df = pd.read_csv ('train_data_cross-sell.csv', encoding='latin1')\n",
    "df.rename(columns = {'ÿid': 'id'}, inplace = True)\n",
    "df.head()"
   ]
  },
  {
   "cell_type": "code",
   "execution_count": 15,
   "id": "ae667cb8-3b5b-4ede-ac58-4917781d6540",
   "metadata": {},
   "outputs": [
    {
     "data": {
      "application/javascript": [
       "\n",
       "        if (window._pyforest_update_imports_cell) { window._pyforest_update_imports_cell('import matplotlib.pyplot as plt'); }\n",
       "    "
      ],
      "text/plain": [
       "<IPython.core.display.Javascript object>"
      ]
     },
     "metadata": {},
     "output_type": "display_data"
    },
    {
     "data": {
      "application/javascript": [
       "\n",
       "        if (window._pyforest_update_imports_cell) { window._pyforest_update_imports_cell('import matplotlib.pyplot as plt'); }\n",
       "    "
      ],
      "text/plain": [
       "<IPython.core.display.Javascript object>"
      ]
     },
     "metadata": {},
     "output_type": "display_data"
    },
    {
     "data": {
      "application/javascript": [
       "\n",
       "        if (window._pyforest_update_imports_cell) { window._pyforest_update_imports_cell('import matplotlib.pyplot as plt'); }\n",
       "    "
      ],
      "text/plain": [
       "<IPython.core.display.Javascript object>"
      ]
     },
     "metadata": {},
     "output_type": "display_data"
    },
    {
     "data": {
      "application/javascript": [
       "\n",
       "        if (window._pyforest_update_imports_cell) { window._pyforest_update_imports_cell('import matplotlib.pyplot as plt'); }\n",
       "    "
      ],
      "text/plain": [
       "<IPython.core.display.Javascript object>"
      ]
     },
     "metadata": {},
     "output_type": "display_data"
    },
    {
     "data": {
      "application/javascript": [
       "\n",
       "        if (window._pyforest_update_imports_cell) { window._pyforest_update_imports_cell('import matplotlib.pyplot as plt'); }\n",
       "    "
      ],
      "text/plain": [
       "<IPython.core.display.Javascript object>"
      ]
     },
     "metadata": {},
     "output_type": "display_data"
    },
    {
     "data": {
      "application/javascript": [
       "\n",
       "        if (window._pyforest_update_imports_cell) { window._pyforest_update_imports_cell('import matplotlib.pyplot as plt'); }\n",
       "    "
      ],
      "text/plain": [
       "<IPython.core.display.Javascript object>"
      ]
     },
     "metadata": {},
     "output_type": "display_data"
    },
    {
     "data": {
      "image/png": "[encoded data removed]",
      "text/plain": [
       "<Figure size 640x480 with 1 Axes>"
      ]
     },
     "metadata": {},
     "output_type": "display_data"
    }
   ],
   "source": [
    "df[\"Customer_Date_of_Birth\"] = pd.to_datetime(df[\"Customer_Date_of_Birth\"], format=\"%A, %B %d, %Y\")\n",
    "\n",
    "# Calculate Age\n",
    "current_year = datetime.now().year\n",
    "df[\"Age\"] = current_year - df[\"Customer_Date_of_Birth\"].dt.year\n",
    "\n",
    "# Plot the histogram of ages\n",
    "plt.hist(df[\"Age\"], bins=30, color=\"blue\", alpha=0.8)\n",
    "plt.xlabel(\"Age\")\n",
    "plt.ylabel(\"Frequency\")\n",
    "plt.grid(True)\n",
    "plt.title(\"Distribution of Policy Holders’ Ages\")\n",
    "plt.show()"
   ]
  },
  {
   "cell_type": "code",
   "execution_count": 12,
   "id": "fe6d90fc-b10c-4e2c-807a-dcad933cc197",
   "metadata": {},
   "outputs": [
    {
     "name": "stdout",
     "output_type": "stream",
     "text": [
      "<class 'pandas.core.frame.DataFrame'>\n",
      "RangeIndex: 324466 entries, 0 to 324465\n",
      "Data columns (total 13 columns):\n",
      " #   Column                         Non-Null Count   Dtype         \n",
      "---  ------                         --------------   -----         \n",
      " 0   id                             324466 non-null  int64         \n",
      " 1   Gender                         324466 non-null  object        \n",
      " 2   Customer_Date_of_Birth         324466 non-null  datetime64[ns]\n",
      " 3   Driving_License                324466 non-null  int64         \n",
      " 4   Customer_Residence_Sub_County  324466 non-null  object        \n",
      " 5   Previously_Insured             324466 non-null  int64         \n",
      " 6   Vehicle_Year_of_Manufacture    324466 non-null  int64         \n",
      " 7   Vehicle_Damage                 324466 non-null  object        \n",
      " 8   Annual_Premium                 324466 non-null  int64         \n",
      " 9   Agent_name                     324466 non-null  object        \n",
      " 10  Life_policy_start_date         324466 non-null  object        \n",
      " 11  Response                       324466 non-null  int64         \n",
      " 12  Age                            324466 non-null  int32         \n",
      "dtypes: datetime64[ns](1), int32(1), int64(6), object(5)\n",
      "memory usage: 30.9+ MB\n"
     ]
    }
   ],
   "source": [
    "\n",
    "df.info()"
   ]
  },
  {
   "cell_type": "markdown",
   "id": "5330625b-e69a-4dec-b08e-b0fb84373f50",
   "metadata": {},
   "source": [
    "#### 5. Difference Between a Boxplot and a Countplot\n",
    "##### Boxplot:\n",
    "Displays the distribution of a dataset based on five summary statistics: minimum, first quartile (Q1), median, third quartile (Q3), and maximum.\\\n",
    "Used for continuous data.\n",
    "##### Countplot:\n",
    "Displays the count (frequency) of categorical data points in each category.\\\n",
    "Used for visualising distributions of categorical variables."
   ]
  },
  {
   "cell_type": "markdown",
   "id": "0f7a0c90-5b1a-453c-a72d-047ab8c55421",
   "metadata": {},
   "source": [
    "#### 6. Distribution with Same Mean, Median, and Mode\n",
    "The normal distribution (or Gaussian distribution) has the same mean, median, and mode. This is due to its symmetric bell-shaped curve, where all measures of central tendency align at the center."
   ]
  },
  {
   "cell_type": "code",
   "execution_count": 16,
   "id": "c16630f1-c62f-4e35-9bcb-6b56927f61c1",
   "metadata": {},
   "outputs": [
    {
     "name": "stdout",
     "output_type": "stream",
     "text": [
      "2025\n"
     ]
    }
   ],
   "source": [
    "print(current_year)"
   ]
  },
  {
   "cell_type": "code",
   "execution_count": 17,
   "id": "6c34c1eb-b95f-4843-83fc-83151df86fd3",
   "metadata": {},
   "outputs": [],
   "source": [
    "current_year = datetime.now()"
   ]
  },
  {
   "cell_type": "code",
   "execution_count": 18,
   "id": "274557e4-bc9d-4a43-b4b9-7584d9f75919",
   "metadata": {},
   "outputs": [
    {
     "name": "stdout",
     "output_type": "stream",
     "text": [
      "2025-01-28 11:32:18.086804\n"
     ]
    }
   ],
   "source": [
    "print(current_year)"
   ]
  },
  {
   "cell_type": "code",
   "execution_count": null,
   "id": "ba806992-fabe-42bf-a084-ccc6570357b1",
   "metadata": {},
   "outputs": [],
   "source": []
  }
 ],
 "metadata": {
  "kernelspec": {
   "display_name": "Python 3 (ipykernel)",
   "language": "python",
   "name": "python3"
  },
  "language_info": {
   "codemirror_mode": {
    "name": "ipython",
    "version": 3
   },
   "file_extension": ".py",
   "mimetype": "text/x-python",
   "name": "python",
   "nbconvert_exporter": "python",
   "pygments_lexer": "ipython3",
   "version": "3.12.4"
  }
 },
 "nbformat": 4,
 "nbformat_minor": 5
}
