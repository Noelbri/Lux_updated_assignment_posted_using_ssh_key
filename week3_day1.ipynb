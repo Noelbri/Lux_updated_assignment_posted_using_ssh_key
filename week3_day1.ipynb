{
 "cells": [
  {
   "cell_type": "markdown",
   "id": "5898325b-6e89-45e0-bc41-090f06d7e504",
   "metadata": {},
   "source": [
    "#### Inclusion-Exclusion Principle\n",
    "By taking into account the sizes of the individual sets and their intersections, it offers a method for determining the size of the union of several sets. The idea is especially helpful when working with sets that overlap."
   ]
  },
  {
   "cell_type": "code",
   "execution_count": null,
   "id": "bde1f6f2-a78b-4b1c-84c6-0d6677682a85",
   "metadata": {},
   "outputs": [],
   "source": []
  }
 ],
 "metadata": {
  "kernelspec": {
   "display_name": "Python 3 (ipykernel)",
   "language": "python",
   "name": "python3"
  },
  "language_info": {
   "codemirror_mode": {
    "name": "ipython",
    "version": 3
   },
   "file_extension": ".py",
   "mimetype": "text/x-python",
   "name": "python",
   "nbconvert_exporter": "python",
   "pygments_lexer": "ipython3",
   "version": "3.12.4"
  }
 },
 "nbformat": 4,
 "nbformat_minor": 5
}
