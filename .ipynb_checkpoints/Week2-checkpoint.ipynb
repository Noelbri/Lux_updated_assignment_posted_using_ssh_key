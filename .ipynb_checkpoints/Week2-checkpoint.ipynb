{
 "cells": [
  {
   "cell_type": "markdown",
   "id": "d4ada982-1f4b-4bf1-b82b-e4d6759e86a1",
   "metadata": {},
   "source": [
    "#### What are magic commands and their uses?"
   ]
  },
  {
   "cell_type": "markdown",
   "id": "d0f91569-5c18-424c-b333-ccbaedd64cfd",
   "metadata": {},
   "source": [
    "Magic commands are an enhancement of the interactive IPython kernel (used by Jupyter) and make performing common tasks easier than using Python code alone."
   ]
  },
  {
   "cell_type": "markdown",
   "id": "82539fc4-2827-4671-bc5b-e7089e52eafd",
   "metadata": {},
   "source": [
    "##### Line magics and cell magics\n",
    "Magic commands are easily identified because they all start with the % character. Line magics start with a single % and apply to the code on the rest of the line. Cell magics start with %% and apply to the rest of the code in a cell."
   ]
  },
  {
   "cell_type": "markdown",
   "id": "bb98b5f4-c38b-4f3e-80b1-18272d98d921",
   "metadata": {},
   "source": [
    "#### Bar Chart\n",
    "Used to compare categorical data or to show the relationship between a categorical variable and a numerical cariable."
   ]
  },
  {
   "cell_type": "markdown",
   "id": "0262e4ed-24f2-42b4-87f4-96be2e747e06",
   "metadata": {},
   "source": [
    "#### Count Plot\n",
    "Used to display the frequency of observations in each category"
   ]
  },
  {
   "cell_type": "markdown",
   "id": "fa58ea26-ecd7-4b75-9d33-10aca2aee4f7",
   "metadata": {},
   "source": [
    "#### Histogram\n",
    "Used to represent the distribution of a continuous numerical variable."
   ]
  },
  {
   "cell_type": "markdown",
   "id": "1dab8d22-09d3-458b-8614-468fb9bbbe06",
   "metadata": {},
   "source": [
    "#### Do a blog on data protection, privacy and ethics\n",
    "https://www.linkedin.com/posts/noel-owaga-a6119b32a_in-order-to-help-individuals-and-organisations-activity-7292003908451749888-qlJw?utm_source=share&utm_medium=member_desktop"
   ]
  },
  {
   "cell_type": "code",
   "execution_count": null,
   "id": "4fd45caf-2df5-4b8d-a000-baad9dffb374",
   "metadata": {},
   "outputs": [],
   "source": []
  }
 ],
 "metadata": {
  "kernelspec": {
   "display_name": "Python 3 (ipykernel)",
   "language": "python",
   "name": "python3"
  },
  "language_info": {
   "codemirror_mode": {
    "name": "ipython",
    "version": 3
   },
   "file_extension": ".py",
   "mimetype": "text/x-python",
   "name": "python",
   "nbconvert_exporter": "python",
   "pygments_lexer": "ipython3",
   "version": "3.12.4"
  }
 },
 "nbformat": 4,
 "nbformat_minor": 5
}
