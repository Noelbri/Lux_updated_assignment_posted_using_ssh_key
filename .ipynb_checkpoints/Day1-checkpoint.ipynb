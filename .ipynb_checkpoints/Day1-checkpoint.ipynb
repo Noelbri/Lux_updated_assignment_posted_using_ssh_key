{
 "cells": [
  {
   "cell_type": "markdown",
   "id": "96772978-a241-47d8-aa04-2ba9fb89a1eb",
   "metadata": {},
   "source": [
    "## Day 1 Assignment"
   ]
  },
  {
   "cell_type": "markdown",
   "id": "fecb1093-65ea-41b7-82e9-a18741145c92",
   "metadata": {},
   "source": [
    "#### Transformers"
   ]
  },
  {
   "cell_type": "markdown",
   "id": "e9556047-ce29-4546-9597-ddb68721a572",
   "metadata": {},
   "source": [
    "The transformer model is a neural network used to perform machine learning tasks. The transformer Architecture is a model that uses self-attention to transform one whole sentence into a single sentence.\n",
    "The transformers revolutionized conversational AI by enabling models to process and generate language with unprecedented accuracy and coherence. The evolution from rule-based systems to transformers-based architecture like GPT represents a significant leap in enabling AI to simulate human-like conversation effectively"
   ]
  },
  {
   "cell_type": "markdown",
   "id": "3d164dc5-9d28-42ae-a294-a30ed0fce531",
   "metadata": {},
   "source": [
    "#### Sub-sets of AI"
   ]
  },
  {
   "cell_type": "markdown",
   "id": "34ec0fd3-c2a9-4511-a036-46ef845318bf",
   "metadata": {},
   "source": [
    "1. Machine Learning (ML)\n",
    "Definition:\\\n",
    "Enables systems to learn from data and improve performance without being explicitly programmed.\\\n",
    "Examples:\\\n",
    "Supervised Learning: Predicting house prices based on historical data.\\\n",
    "Unsupervised Learning: Customer segmentation in marketing.\\\n",
    "Reinforcement Learning: Training robots to walk or play games.\\\n",
    "Mimics:\\\n",
    "Human-learning: adapts and improves based on experience (like a child learning through observation and practice).\n",
    "3. Deep Learning\n",
    "Definition:\\\n",
    "A subset of ML that uses neural networks to simulate the human brain's workings.\\\n",
    "Examples:\\\n",
    "Image classification (e.g., identifying cats and dogs in images).\\\n",
    "Speech recognition (e.g., Siri, Google Assistant).\\\n",
    "Mimics:\\\n",
    "Neural Processes: Processes complex patterns like the brain, learning hierarchical features from raw data.\n",
    "5. Natural Language Processing (NLP)\n",
    "Definition:\\\n",
    "Enables machines to understand, interpret, and generate human language.\\\n",
    "Examples:\\\n",
    "Chatbots (e.g., ChatGPT).\\\n",
    "Language translation (e.g., Google Translate).\\\n",
    "Sentiment analysis (e.g., analyzing product reviews).\\\n",
    "Mimics:\\\n",
    "Human Communication: Interprets and generates language, akin to speaking and understanding speech or text.\n",
    "7. Computer Vision\n",
    "Definition:\\\n",
    "Enables machines to interpret and process visual data.\\\n",
    "Examples:\\\n",
    "Facial recognition (e.g., Face ID).\\\n",
    "Object detection (e.g., autonomous vehicles identifying pedestrians).\\\n",
    "Medical imaging (e.g., detecting tumors in X-rays).\\\n",
    "Mimics:\\\n",
    "Human Sight: Recognizes and interprets visual stimuli like the human eye and brain.\n",
    "9. Speech Recognition\n",
    "Definition:\\\n",
    "Converts spoken language into text.\\\n",
    "Examples:\\\n",
    "Voice assistants (e.g., Alexa).\\\n",
    "Real-time transcription (e.g., Otter.ai).\\\n",
    "Mimics:\\\n",
    "Hearing and Listening: Understands spoken words and converts them into actionable data.\n",
    "11. Robotics\n",
    "Definition:\\\n",
    "Combines AI with mechanical engineering to build intelligent machines.\\\n",
    "Examples:\\\n",
    "Autonomous robots (e.g., Boston Dynamics’ Spot).\\\n",
    "Robotic vacuum cleaners (e.g., Roomba).\\\n",
    "Mimics:\\\n",
    "Human Physical Abilities: Performs tasks requiring movement, manipulation, and coordination.\n",
    "13. Expert Systems\n",
    "Definition:\\\n",
    "Mimics decision-making by using a knowledge base and set rules.\\\n",
    "Examples:\\\n",
    "Medical diagnosis systems (e.g., Mycin).\\\n",
    "Legal advisory systems.\\\n",
    "Mimics:\\\n",
    "Decision-Making: Applies logic and reasoning like human experts in specific fields.\n",
    "15. Fuzzy Logic\n",
    "Definition:\\\n",
    "Mimics human reasoning by handling imprecise or vague data.\\\n",
    "Examples:\\\n",
    "Climate control systems.\\\n",
    "Washing machines optimizing wash cycles.\\\n",
    "Mimics:\\\n",
    "Human Reasoning Under Uncertainty: Makes decisions based on \"degrees of truth\" rather than binary logic.\n",
    "17. Reinforcement Learning (RL)\n",
    "Definition:\\\n",
    "Trains agents to make decisions by rewarding desired behaviors.\\\n",
    "Examples:\\\n",
    "Self-driving cars optimizing routes.\\\n",
    "AI mastering complex games (e.g., AlphaGo).\\\n",
    "Mimics:\\\n",
    "Trial and Error Learning: Learns through consequences, much like humans learning from successes and failures.\n",
    "19. Artificial Neural Networks (ANNs)\n",
    "Definition:\\\n",
    "Networks inspired by the human brain structure to process data.\\\n",
    "Examples:\\\n",
    "Fraud detection in banking.\\\n",
    "Image recognition in social media platforms.\\\n",
    "Mimics:\\\n",
    "Brain Networks: Processes information by mimicking neurons and synapses.\n",
    "21. Emotional AI (Affective Computing)\n",
    "Definition:\\\n",
    "Detects and responds to human emotions.\\\n",
    "Examples:\\\n",
    "Sentiment analysis tools.\\\n",
    "AI tutors adapting teaching methods based on student emotions.\\\n",
    "Mimics:\\\n",
    "Emotional Intelligence: Understands and responds to emotions like empathy or frustration."
   ]
  },
  {
   "cell_type": "code",
   "execution_count": null,
   "id": "2cfbe6ba-33cf-4549-95d8-110e6306fbd6",
   "metadata": {},
   "outputs": [],
   "source": []
  }
 ],
 "metadata": {
  "kernelspec": {
   "display_name": "Python 3 (ipykernel)",
   "language": "python",
   "name": "python3"
  },
  "language_info": {
   "codemirror_mode": {
    "name": "ipython",
    "version": 3
   },
   "file_extension": ".py",
   "mimetype": "text/x-python",
   "name": "python",
   "nbconvert_exporter": "python",
   "pygments_lexer": "ipython3",
   "version": "3.12.4"
  }
 },
 "nbformat": 4,
 "nbformat_minor": 5
}
